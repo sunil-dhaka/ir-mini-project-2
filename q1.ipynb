{
 "cells": [
  {
   "cell_type": "code",
   "execution_count": null,
   "metadata": {},
   "outputs": [],
   "source": [
    "import numpy as np\n",
    "import pandas as pd\n",
    "import gc\n",
    "from gensim.models import Word2Vec\n",
    "import time\n",
    "import json"
   ]
  },
  {
   "cell_type": "markdown",
   "metadata": {},
   "source": [
    "- how do I calculate accuracy for word similarity task?\n",
    "- in forums this method is mentioned:\n",
    "$$\n",
    "Accuracy = \\frac{\\text{Number of correct predictions}}{\\text{Total number of predictions}}\n",
    "$$"
   ]
  },
  {
   "cell_type": "code",
   "execution_count": null,
   "metadata": {},
   "outputs": [],
   "source": [
    "def load_glove_model(file_path,embedding_size=50):\n",
    "    glove_model = {}\n",
    "    with open(file_path,'r',encoding=\"utf-8\",errors='ignore') as f:\n",
    "        try:\n",
    "            for i,line in enumerate(f):\n",
    "                # if i%10000==0:\n",
    "                #     print(i)\n",
    "                split_line = line.split()\n",
    "                word = split_line[0]\n",
    "                embedding = np.array(split_line[-embedding_size:], dtype=np.float64)\n",
    "                glove_model[word] = embedding\n",
    "        except Exception as e:\n",
    "            print(e)\n",
    "            print(line,i)\n",
    "    print(f\"total {len(glove_model)} words loaded from glove model, each of size {embedding_size}.\")\n",
    "    return glove_model"
   ]
  },
  {
   "cell_type": "code",
   "execution_count": null,
   "metadata": {},
   "outputs": [],
   "source": [
    "def get_accuracy(predict_values,thershold):\n",
    "    \"\"\"\n",
    "    return sccuracy score from predicted similar word score \n",
    "    \"\"\"\n",
    "    total_predictions=len(predict_values)\n",
    "    correct_predictions=0\n",
    "    for prediction_score in predict_values:\n",
    "        if prediction_score>thershold:\n",
    "            correct_predictions+=1\n",
    "    \n",
    "    return correct_predictions/total_predictions"
   ]
  },
  {
   "cell_type": "code",
   "execution_count": null,
   "metadata": {},
   "outputs": [],
   "source": [
    "def cosine_similarity(a,b):\n",
    "    return np.dot(a,b)/(np.linalg.norm(a)*np.linalg.norm(b))"
   ]
  },
  {
   "cell_type": "code",
   "execution_count": null,
   "metadata": {},
   "outputs": [],
   "source": [
    "\"\"\"\n",
    "NOTE: these paths needs to be exactly same. follow these steps to ensure it:\n",
    "create 'data' dir and change into it\n",
    "download zip pre-trained embeddings\n",
    "unzip it in the data dir\n",
    "\"\"\"\n",
    "'''\n",
    "NOTE: as sir said in class to only report for 50 and 100, I am doing that only\n",
    "'''\n",
    "MODEL_PATHS=['data/hi/50/cbow/hi-d50-m2-cbow.model','data/hi/50/sg/hi-d50-m2-sg.model','data/hi/50/glove/hi-d50-glove.txt','data/hi/50/fasttext/hi-d50-m2-fasttext.model','data/hi/100/cbow/hi-d100-m2-cbow.model','data/hi/100/sg/hi-d100-m2-sg.model','data/hi/100/glove/hi-d100-glove.txt','data/hi/100/fasttext/hi-d100-m2-fasttext.model'] \n",
    "#,'data/hi/200/cbow/hi-d200-m2-cbow.model','data/hi/200/sg/hi-d200-m2-sg.model','data/hi/200/glove/hi-d200-glove.txt','data/hi/200/fasttext/hi-d200-m2-fasttext.model','data/hi/300/cbow/hi-d300-m2-cbow.model','data/hi/300/sg/hi-d300-m2-sg.model','data/hi/300/glove/hi-d300-glove.txt','data/hi/300/fasttext/hi-d300-m2-fasttext.model']\n",
    "accuracy_data={\n",
    "    'thershold':[0.4,0.5,0.6,0.7,0.8]\n",
    "}\n",
    "def main():\n",
    "    \"\"\"\n",
    "    read wordsim file for hindi\n",
    "    \"\"\"\n",
    "    # data file path has to the path to the similar word file\n",
    "    with open('data/iiith_wordsim/hindi.txt','r') as file:\n",
    "        # used if condition to remove empty lines if there are any\n",
    "        wordsim_data=[line.strip().split('\\t') for line in file.readlines() if len(line)>1]\n",
    "    for model_path in MODEL_PATHS:\n",
    "        model_name=model_path.split(\"/\")[-1]\n",
    "        print(f'working on -- {model_name}')\n",
    "        if 'glove' in model_path:\n",
    "            # does not work if NOTE is not followed\n",
    "            embedding_size=int(model_path.split('/')[2])\n",
    "            word_embeddings=load_glove_model(model_path,embedding_size)\n",
    "        else:\n",
    "            word_embeddings=Word2Vec.load(model_path)\n",
    "            word_embeddings=word_embeddings.wv\n",
    "        \n",
    "        for i,words in enumerate(wordsim_data):\n",
    "            cosine_score=cosine_similarity(word_embeddings[words[0]],word_embeddings[words[1]])\n",
    "            wordsim_data[i].append(cosine_score)\n",
    "\n",
    "        predict_values=[c[-1] for c in wordsim_data]\n",
    "        tmp_list=[]\n",
    "        for thers in accuracy_data['thershold']:\n",
    "            tmp_list.append(get_accuracy(predict_values,thers))\n",
    "\n",
    "        accuracy_data[model_name]=tmp_list\n",
    "        \n",
    "        time.sleep(1)\n",
    "        # remove variable from namespace\n",
    "        del word_embeddings\n",
    "        # remove variable data from memory\n",
    "        gc.collect()\n",
    "        time.sleep(1)"
   ]
  },
  {
   "cell_type": "code",
   "execution_count": null,
   "metadata": {},
   "outputs": [],
   "source": [
    "tic=time.time()\n",
    "main()\n",
    "toc=time.time()\n",
    "print('time taken',round(toc-tic))"
   ]
  },
  {
   "cell_type": "code",
   "execution_count": null,
   "metadata": {},
   "outputs": [],
   "source": [
    "df=pd.DataFrame(accuracy_data)\n",
    "df.to_csv('accuracy-data.csv',index=False)"
   ]
  },
  {
   "cell_type": "code",
   "execution_count": null,
   "metadata": {},
   "outputs": [],
   "source": [
    "with open('accuracy-data.json','w') as file:\n",
    "    json.dump(accuracy_data,file)"
   ]
  },
  {
   "cell_type": "code",
   "execution_count": null,
   "metadata": {},
   "outputs": [],
   "source": [
    "gc.collect()"
   ]
  }
 ],
 "metadata": {
  "interpreter": {
   "hash": "365d70965140afb04a698773bfdd31483bc82432b779112c2a78b5de7c16d125"
  },
  "kernelspec": {
   "display_name": "Python 3.8.5 ('base')",
   "language": "python",
   "name": "python3"
  },
  "language_info": {
   "codemirror_mode": {
    "name": "ipython",
    "version": 3
   },
   "file_extension": ".py",
   "mimetype": "text/x-python",
   "name": "python",
   "nbconvert_exporter": "python",
   "pygments_lexer": "ipython3",
   "version": "3.8.5"
  },
  "orig_nbformat": 4
 },
 "nbformat": 4,
 "nbformat_minor": 2
}
